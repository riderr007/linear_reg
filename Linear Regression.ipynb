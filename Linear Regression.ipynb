{
 "cells": [
  {
   "cell_type": "markdown",
   "id": "da62d4b9-107c-44f9-aa47-631367f495d7",
   "metadata": {},
   "source": [
    "# Covariance\n",
    "\n"
   ]
  },
  {
   "cell_type": "code",
   "execution_count": null,
   "id": "2b3697f6-11e6-45df-9603-28993060ef90",
   "metadata": {},
   "outputs": [],
   "source": [
    "Cov (x,y) = + , - , 0\n",
    "\n",
    "\n"
   ]
  },
  {
   "attachments": {
    "170d61af-d9c1-4998-9fe0-4469bc387e53.png": {
     "image/png": "[encoded data removed]"
    }
   },
   "cell_type": "markdown",
   "id": "827d9635-f981-4db2-93ff-7f588984f6db",
   "metadata": {},
   "source": [
    "![image.png](attachment:170d61af-d9c1-4998-9fe0-4469bc387e53.png)"
   ]
  },
  {
   "cell_type": "code",
   "execution_count": null,
   "id": "06b17882-4328-4ed1-b19e-7565c11a8ea9",
   "metadata": {},
   "outputs": [],
   "source": [
    "Xi = Actual Data point \n",
    "X(mean)"
   ]
  },
  {
   "cell_type": "code",
   "execution_count": null,
   "id": "2044f293-facf-4b65-886c-d3556547ce8f",
   "metadata": {},
   "outputs": [],
   "source": [
    "Positive Cov(x,y) = x & y are directly proportional \n",
    "\n",
    "x increase as y increase \n",
    "\n",
    "\n",
    "Negative Cov(x,y) = x & y are inversly proporational \n",
    "\n",
    "x increase as y decrease \n",
    "\n",
    "\n",
    "Zero (Approx) Cov(x,y) = Randomly distribute"
   ]
  },
  {
   "cell_type": "code",
   "execution_count": null,
   "id": "5bdd930c-117e-45d4-8228-2c10910c0c2f",
   "metadata": {},
   "outputs": [],
   "source": []
  },
  {
   "cell_type": "code",
   "execution_count": null,
   "id": "9a8aac1b-63e9-4e53-82e4-9a9ef3511c05",
   "metadata": {},
   "outputs": [],
   "source": []
  },
  {
   "cell_type": "code",
   "execution_count": null,
   "id": "ff388ed7-42fc-4652-9690-3335d321c262",
   "metadata": {},
   "outputs": [],
   "source": [
    "Coeffiecient of Correlation (r) / pearsons coeffiecient of correlation"
   ]
  },
  {
   "cell_type": "code",
   "execution_count": 1,
   "id": "bab8e969-9a26-40bd-a5da-5bc2037d5dcc",
   "metadata": {},
   "outputs": [],
   "source": [
    "import pandas as pd"
   ]
  },
  {
   "cell_type": "code",
   "execution_count": 2,
   "id": "9b852639-0cea-40b8-b962-278aa9956155",
   "metadata": {},
   "outputs": [
    {
     "data": {
      "text/html": [
       "<div>\n",
       "<style scoped>\n",
       "    .dataframe tbody tr th:only-of-type {\n",
       "        vertical-align: middle;\n",
       "    }\n",
       "\n",
       "    .dataframe tbody tr th {\n",
       "        vertical-align: top;\n",
       "    }\n",
       "\n",
       "    .dataframe thead th {\n",
       "        text-align: right;\n",
       "    }\n",
       "</style>\n",
       "<table border=\"1\" class=\"dataframe\">\n",
       "  <thead>\n",
       "    <tr style=\"text-align: right;\">\n",
       "      <th></th>\n",
       "      <th>YearsExperience</th>\n",
       "      <th>Salary</th>\n",
       "    </tr>\n",
       "  </thead>\n",
       "  <tbody>\n",
       "    <tr>\n",
       "      <th>YearsExperience</th>\n",
       "      <td>1.000000</td>\n",
       "      <td>0.978242</td>\n",
       "    </tr>\n",
       "    <tr>\n",
       "      <th>Salary</th>\n",
       "      <td>0.978242</td>\n",
       "      <td>1.000000</td>\n",
       "    </tr>\n",
       "  </tbody>\n",
       "</table>\n",
       "</div>"
      ],
      "text/plain": [
       "                 YearsExperience    Salary\n",
       "YearsExperience         1.000000  0.978242\n",
       "Salary                  0.978242  1.000000"
      ]
     },
     "execution_count": 2,
     "metadata": {},
     "output_type": "execute_result"
    }
   ],
   "source": [
    "df = pd.read_csv('Salary_Data.csv')\n",
    "df.corr()"
   ]
  },
  {
   "attachments": {
    "2468eaec-b7f5-4259-bc13-b6938963e32c.png": {
     "image/png": "[encoded data removed]"
    }
   },
   "cell_type": "markdown",
   "id": "43989dcc-8aa9-4ebe-8782-444e05eed9cf",
   "metadata": {},
   "source": [
    "![image.png](attachment:2468eaec-b7f5-4259-bc13-b6938963e32c.png)\n"
   ]
  },
  {
   "cell_type": "code",
   "execution_count": null,
   "id": "fa38663b-f20e-40c8-ab70-a45e915109d7",
   "metadata": {},
   "outputs": [],
   "source": [
    " r = -1 to 1\n",
    "    \n"
   ]
  },
  {
   "cell_type": "code",
   "execution_count": null,
   "id": "e0593ab3-8af6-489c-8275-97d6bcb168b1",
   "metadata": {},
   "outputs": [],
   "source": []
  },
  {
   "cell_type": "markdown",
   "id": "efa7a809-784c-44ff-9fbf-117389a20c8e",
   "metadata": {},
   "source": [
    "# 1. Errors / Residualm"
   ]
  },
  {
   "cell_type": "code",
   "execution_count": null,
   "id": "4add7992-6d83-4b1b-a21c-d46a664cd900",
   "metadata": {},
   "outputs": [],
   "source": [
    "Error == Residual \n",
    "\n",
    "Error between actual value and predicted value \n",
    "\n",
    "Residual/ Error  = Y(actual) - Y(pred)\n",
    "\n",
    "Positive = Data above the Regression line\n",
    "Negative = Data point below the Regression Line\n",
    "Zero = Data point on Regression line"
   ]
  },
  {
   "cell_type": "markdown",
   "id": "17bbe3a4-3fd9-4532-a07d-84284967b8a6",
   "metadata": {},
   "source": [
    "# 2. Sum of Sequared Error"
   ]
  },
  {
   "cell_type": "code",
   "execution_count": null,
   "id": "06d509c2-b8fc-40e9-822c-8b77431428d9",
   "metadata": {},
   "outputs": [],
   "source": [
    "Sum of sequared Error [SSE] / Residual sum of Squares (RSS)\n",
    "\n",
    "\n",
    "SSE/RSS = Sum[(Y[actual] - Y[pred])^2]"
   ]
  },
  {
   "cell_type": "markdown",
   "id": "f02fad86-48a1-4f32-abea-2414ea3062e9",
   "metadata": {},
   "source": [
    "# 3. Mean Sequared Error [MSE]"
   ]
  },
  {
   "cell_type": "code",
   "execution_count": null,
   "id": "0a1f4fbe-817a-4a28-b4cd-d89ad2070779",
   "metadata": {},
   "outputs": [],
   "source": [
    "MSE = SSE / N \n",
    "\n",
    "SSE = Sum of sequared error\n",
    "N = Total data point\n",
    "\n",
    "\n",
    "Cost Function = MSE"
   ]
  },
  {
   "cell_type": "markdown",
   "id": "423946ac-780f-460b-bc74-e6431d2f917e",
   "metadata": {},
   "source": [
    "# 4. Sum of Squares due to Regression"
   ]
  },
  {
   "cell_type": "code",
   "execution_count": null,
   "id": "8bbec11a-33d5-4c07-a034-bd2fb7b9d2a6",
   "metadata": {},
   "outputs": [],
   "source": [
    "SSR >> Sum of Squares due to Regression \n",
    "\n",
    "SSR = Sum (Ypred - Ymean)^2\n",
    "\n",
    "SSR >> Sum of Squared difference between predicted values and mean of dependant variable"
   ]
  },
  {
   "cell_type": "code",
   "execution_count": null,
   "id": "be569970-3134-4029-8c64-b47f5203564b",
   "metadata": {},
   "outputs": [],
   "source": []
  },
  {
   "cell_type": "code",
   "execution_count": null,
   "id": "bff84fad-3ce8-46ab-a452-5c38c1674156",
   "metadata": {},
   "outputs": [],
   "source": []
  },
  {
   "cell_type": "code",
   "execution_count": null,
   "id": "460b9009-d046-4ec0-bc72-e47cfcf8d2ef",
   "metadata": {},
   "outputs": [],
   "source": []
  },
  {
   "cell_type": "markdown",
   "id": "1a188202-6678-4efa-8c75-a7f4b62f7653",
   "metadata": {
    "tags": []
   },
   "source": [
    "# 5. Total Error"
   ]
  },
  {
   "cell_type": "code",
   "execution_count": null,
   "id": "06cd21b4-f318-4e04-a9e2-b66cde6f1c89",
   "metadata": {},
   "outputs": [],
   "source": [
    "Total Error (SST) = SUM of Squared total \n",
    "\n",
    "SST =  sum [[Y(actual) - Y(Mean)]^2]\n",
    "\n",
    "SST >> Sum of sequared difference between actual values and mean of dependent variable \n",
    "\n",
    "SST = SSR + SSE"
   ]
  },
  {
   "cell_type": "markdown",
   "id": "4ee8a4e5-4957-476c-8a1a-8218dd3f9ebf",
   "metadata": {},
   "source": [
    "# 6. R - Squared "
   ]
  },
  {
   "cell_type": "code",
   "execution_count": null,
   "id": "0db5edfd-0d88-4d2f-af8b-b8c8899d3022",
   "metadata": {},
   "outputs": [],
   "source": [
    "R - Square  [Coefficient of Determination]\n",
    "\n",
    "R-squared = 1- (SSE/SST)"
   ]
  },
  {
   "cell_type": "code",
   "execution_count": null,
   "id": "b0188e24-1e0d-4b74-ba35-74e119d3fa77",
   "metadata": {},
   "outputs": [],
   "source": []
  },
  {
   "attachments": {
    "a6687191-f232-4859-bb3e-b27e3ac80aa4.jpeg": {
     "image/jpeg": "[encoded data removed]"
    }
   },
   "cell_type": "markdown",
   "id": "08cf8c4f-6847-460a-96e9-868b4d2f9954",
   "metadata": {},
   "source": [
    "![error.jpeg](attachment:a6687191-f232-4859-bb3e-b27e3ac80aa4.jpeg)"
   ]
  },
  {
   "cell_type": "code",
   "execution_count": null,
   "id": "b99cfe12-d5f2-4783-a17d-67a824370a3f",
   "metadata": {},
   "outputs": [],
   "source": [
    "### IMP Formula\n",
    "\n",
    "\n",
    "Residul/ Error = (Actual - Predicted)\n",
    "\n",
    "SSE/RSS = Σ(actaul - predicted)^2\n",
    "MSE = Σ(actaul - predicted)^2 / N\n",
    "SSR = Σ(predicted - mean)^2\n",
    "SST = Σ(actual - mean)^2  = SSR + SSE\n",
    "R-squared = 1 - (SSE/SST)"
   ]
  }
 ],
 "metadata": {
  "kernelspec": {
   "display_name": "Python 3 (ipykernel)",
   "language": "python",
   "name": "python3"
  },
  "language_info": {
   "codemirror_mode": {
    "name": "ipython",
    "version": 3
   },
   "file_extension": ".py",
   "mimetype": "text/x-python",
   "name": "python",
   "nbconvert_exporter": "python",
   "pygments_lexer": "ipython3",
   "version": "3.9.12"
  }
 },
 "nbformat": 4,
 "nbformat_minor": 5
}
